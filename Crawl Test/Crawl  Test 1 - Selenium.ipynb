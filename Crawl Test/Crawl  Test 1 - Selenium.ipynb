{
 "cells": [
  {
   "cell_type": "markdown",
   "id": "2ae07c8b",
   "metadata": {},
   "source": [
    "# 인스타그램 크롤링 Test"
   ]
  },
  {
   "cell_type": "code",
   "execution_count": null,
   "id": "209a5592",
   "metadata": {},
   "outputs": [],
   "source": [
    "# 주피터 노트북에서 install\n",
    "pip install webdriver_manager"
   ]
  },
  {
   "cell_type": "code",
   "execution_count": 6,
   "id": "9ced4f67",
   "metadata": {},
   "outputs": [],
   "source": [
    "#작업에 필요한 라이브러리 \n",
    "from selenium import webdriver \n",
    "from selenium.webdriver import ActionChains\n",
    "from selenium.webdriver.common.keys import Keys\n",
    "import time\n",
    "\n",
    "\n",
    "#01. 웹 열기\n",
    "dr = webdriver.Chrome(\"C:/windows/chromedriver.exe\") #웹드라이버로 크롬 웹 켜기\n",
    "dr.set_window_size(414, 800) \t#브라우저 크기 414*800으로 고정\n",
    "dr.get('https://www.instagram.com/') #인스타그램 웹 켜기\n",
    "time.sleep(2) \t#2초 대기\n",
    "\n",
    "# 02. 로그인\n",
    "#경로 지정\n",
    "id_box = dr.find_element_by_css_selector(\"#loginForm > div > div:nth-child(1) > div > label > input\")   #아이디 입력창\n",
    "password_box = dr.find_element_by_css_selector(\"#loginForm > div > div:nth-child(2) > div > label > input\")     #비밀번호 입력창\n",
    "login_button = dr.find_element_by_css_selector('#loginForm > div > div:nth-child(3) > button')      #로그인 버튼\n",
    "\n",
    "#동작 제어\n",
    "act = ActionChains(dr)      #동작 명령어 지정\n",
    "act.send_keys_to_element(id_box, '아이디').send_keys_to_element(password_box, '비밀번호').click(login_button).perform()     #아이디 입력, 비밀 번호 입력, 로그인 버튼 클릭 수행\n",
    "time.sleep(2)\n",
    "\n",
    "#03. 프로필 들어가기\n",
    "#프로필 사진 클릭하기\n",
    "my_photo = dr.find_element_by_css_selector('#react-root > section > nav > div._8MQSO.Cx7Bp > div > div > div.ctQZg.KtFt3 > div > div:nth-child(6) > div.EforU > span > img')\n",
    "my_photo.click()\n",
    "time.sleep(2)\n",
    "\n",
    "#프로필 버튼 클릭하기\n",
    "profile = dr.find_element_by_css_selector('section > nav > div._8MQSO.Cx7Bp > div > div > div.ctQZg > div > div:nth-child(6) > div.poA5q > div.uo5MA._2ciX.tWgj8.XWrBI > div._01UL2 > a:nth-child(1) > div')\n",
    "profile.click()\n",
    "time.sleep(2)"
   ]
  },
  {
   "cell_type": "code",
   "execution_count": 39,
   "id": "17a95432",
   "metadata": {},
   "outputs": [],
   "source": [
    "# Chrome driver manager사용\n",
    "\n",
    "from selenium import webdriver\n",
    "from selenium.webdriver.chrome.service import Service as ChromeService\n",
    "from webdriver_manager.chrome import ChromeDriverManager\n",
    "import time\n",
    "import ssl\n",
    "\n",
    "\n",
    "\n",
    "\n",
    "# 아마 https 관련 기능, requests 요청할 때 https 사이트의 경우 필요하다고 함.\n",
    "ssl._create_default_https_context = ssl._create_unverified_context\n",
    "\n",
    "\n",
    "## 이후에 def, if __name__ == '__main__' 방식으로 업데이트 예정\n",
    "def executor():\n",
    "\n",
    "  chrome_options = webdriver.ChromeOptions()\n",
    "  return webdriver.Chrome(service=ChromeService(ChromeDriverManager().install()), options=chrome_options)"
   ]
  },
  {
   "cell_type": "code",
   "execution_count": 40,
   "id": "a0fb6513",
   "metadata": {},
   "outputs": [],
   "source": [
    "dr = executor()\n",
    "dr.set_window_size(414, 800) \t#브라우저 크기 414*800으로 고정\n",
    "dr.get('https://www.instagram.com/') #인스타그램 웹 켜기\n",
    "time.sleep(2) \t#2초 대기"
   ]
  },
  {
   "cell_type": "code",
   "execution_count": 41,
   "id": "7d43c63e",
   "metadata": {},
   "outputs": [
    {
     "name": "stderr",
     "output_type": "stream",
     "text": [
      "C:\\Users\\Son\\AppData\\Local\\Temp/ipykernel_8084/561295089.py:3: DeprecationWarning: find_element_by_css_selector is deprecated. Please use find_element(by=By.CSS_SELECTOR, value=css_selector) instead\n",
      "  id_box = dr.find_element_by_css_selector(\"#loginForm > div > div:nth-child(1) > div > label > input\")   #아이디 입력창\n"
     ]
    },
    {
     "ename": "NoSuchWindowException",
     "evalue": "Message: no such window: target window already closed\nfrom unknown error: web view not found\n  (Session info: chrome=114.0.5735.134)\nStacktrace:\nBacktrace:\n\tGetHandleVerifier [0x00F1A813+48355]\n\t(No symbol) [0x00EAC4B1]\n\t(No symbol) [0x00DB5358]\n\t(No symbol) [0x00D9D293]\n\t(No symbol) [0x00DFE37B]\n\t(No symbol) [0x00E0C473]\n\t(No symbol) [0x00DFA536]\n\t(No symbol) [0x00DD82DC]\n\t(No symbol) [0x00DD93DD]\n\tGetHandleVerifier [0x0117AABD+2539405]\n\tGetHandleVerifier [0x011BA78F+2800735]\n\tGetHandleVerifier [0x011B456C+2775612]\n\tGetHandleVerifier [0x00FA51E0+616112]\n\t(No symbol) [0x00EB5F8C]\n\t(No symbol) [0x00EB2328]\n\t(No symbol) [0x00EB240B]\n\t(No symbol) [0x00EA4FF7]\n\tBaseThreadInitThunk [0x76CD00C9+25]\n\tRtlGetAppContainerNamedObjectPath [0x77E97B4E+286]\n\tRtlGetAppContainerNamedObjectPath [0x77E97B1E+238]\n",
     "output_type": "error",
     "traceback": [
      "\u001b[1;31m---------------------------------------------------------------------------\u001b[0m",
      "\u001b[1;31mNoSuchWindowException\u001b[0m                     Traceback (most recent call last)",
      "\u001b[1;32m~\\AppData\\Local\\Temp/ipykernel_8084/561295089.py\u001b[0m in \u001b[0;36m<module>\u001b[1;34m\u001b[0m\n\u001b[0;32m      1\u001b[0m \u001b[1;31m# 02. 로그인\u001b[0m\u001b[1;33m\u001b[0m\u001b[1;33m\u001b[0m\u001b[0m\n\u001b[0;32m      2\u001b[0m \u001b[1;31m#경로 지정\u001b[0m\u001b[1;33m\u001b[0m\u001b[1;33m\u001b[0m\u001b[0m\n\u001b[1;32m----> 3\u001b[1;33m \u001b[0mid_box\u001b[0m \u001b[1;33m=\u001b[0m \u001b[0mdr\u001b[0m\u001b[1;33m.\u001b[0m\u001b[0mfind_element_by_css_selector\u001b[0m\u001b[1;33m(\u001b[0m\u001b[1;34m\"#loginForm > div > div:nth-child(1) > div > label > input\"\u001b[0m\u001b[1;33m)\u001b[0m   \u001b[1;31m#아이디 입력창\u001b[0m\u001b[1;33m\u001b[0m\u001b[1;33m\u001b[0m\u001b[0m\n\u001b[0m\u001b[0;32m      4\u001b[0m \u001b[0mpassword_box\u001b[0m \u001b[1;33m=\u001b[0m \u001b[0mdr\u001b[0m\u001b[1;33m.\u001b[0m\u001b[0mfind_element_by_css_selector\u001b[0m\u001b[1;33m(\u001b[0m\u001b[1;34m\"#loginForm > div > div:nth-child(2) > div > label > input\"\u001b[0m\u001b[1;33m)\u001b[0m     \u001b[1;31m#비밀번호 입력창\u001b[0m\u001b[1;33m\u001b[0m\u001b[1;33m\u001b[0m\u001b[0m\n\u001b[0;32m      5\u001b[0m \u001b[0mlogin_button\u001b[0m \u001b[1;33m=\u001b[0m \u001b[0mdr\u001b[0m\u001b[1;33m.\u001b[0m\u001b[0mfind_element_by_css_selector\u001b[0m\u001b[1;33m(\u001b[0m\u001b[1;34m'#loginForm > div > div:nth-child(3) > button'\u001b[0m\u001b[1;33m)\u001b[0m      \u001b[1;31m#로그인 버튼\u001b[0m\u001b[1;33m\u001b[0m\u001b[1;33m\u001b[0m\u001b[0m\n",
      "\u001b[1;32mC:\\ju\\lib\\site-packages\\selenium\\webdriver\\remote\\webdriver.py\u001b[0m in \u001b[0;36mfind_element_by_css_selector\u001b[1;34m(self, css_selector)\u001b[0m\n\u001b[0;32m    807\u001b[0m             \u001b[0mstacklevel\u001b[0m\u001b[1;33m=\u001b[0m\u001b[1;36m2\u001b[0m\u001b[1;33m,\u001b[0m\u001b[1;33m\u001b[0m\u001b[1;33m\u001b[0m\u001b[0m\n\u001b[0;32m    808\u001b[0m         )\n\u001b[1;32m--> 809\u001b[1;33m         \u001b[1;32mreturn\u001b[0m \u001b[0mself\u001b[0m\u001b[1;33m.\u001b[0m\u001b[0mfind_element\u001b[0m\u001b[1;33m(\u001b[0m\u001b[0mby\u001b[0m\u001b[1;33m=\u001b[0m\u001b[0mBy\u001b[0m\u001b[1;33m.\u001b[0m\u001b[0mCSS_SELECTOR\u001b[0m\u001b[1;33m,\u001b[0m \u001b[0mvalue\u001b[0m\u001b[1;33m=\u001b[0m\u001b[0mcss_selector\u001b[0m\u001b[1;33m)\u001b[0m\u001b[1;33m\u001b[0m\u001b[1;33m\u001b[0m\u001b[0m\n\u001b[0m\u001b[0;32m    810\u001b[0m \u001b[1;33m\u001b[0m\u001b[0m\n\u001b[0;32m    811\u001b[0m     \u001b[1;32mdef\u001b[0m \u001b[0mfind_elements_by_css_selector\u001b[0m\u001b[1;33m(\u001b[0m\u001b[0mself\u001b[0m\u001b[1;33m,\u001b[0m \u001b[0mcss_selector\u001b[0m\u001b[1;33m)\u001b[0m \u001b[1;33m->\u001b[0m \u001b[0mList\u001b[0m\u001b[1;33m[\u001b[0m\u001b[0mWebElement\u001b[0m\u001b[1;33m]\u001b[0m\u001b[1;33m:\u001b[0m\u001b[1;33m\u001b[0m\u001b[1;33m\u001b[0m\u001b[0m\n",
      "\u001b[1;32mC:\\ju\\lib\\site-packages\\selenium\\webdriver\\remote\\webdriver.py\u001b[0m in \u001b[0;36mfind_element\u001b[1;34m(self, by, value)\u001b[0m\n\u001b[0;32m   1246\u001b[0m             \u001b[0mvalue\u001b[0m \u001b[1;33m=\u001b[0m \u001b[1;34m'[name=\"%s\"]'\u001b[0m \u001b[1;33m%\u001b[0m \u001b[0mvalue\u001b[0m\u001b[1;33m\u001b[0m\u001b[1;33m\u001b[0m\u001b[0m\n\u001b[0;32m   1247\u001b[0m \u001b[1;33m\u001b[0m\u001b[0m\n\u001b[1;32m-> 1248\u001b[1;33m         return self.execute(Command.FIND_ELEMENT, {\n\u001b[0m\u001b[0;32m   1249\u001b[0m             \u001b[1;34m'using'\u001b[0m\u001b[1;33m:\u001b[0m \u001b[0mby\u001b[0m\u001b[1;33m,\u001b[0m\u001b[1;33m\u001b[0m\u001b[1;33m\u001b[0m\u001b[0m\n\u001b[0;32m   1250\u001b[0m             'value': value})['value']\n",
      "\u001b[1;32mC:\\ju\\lib\\site-packages\\selenium\\webdriver\\remote\\webdriver.py\u001b[0m in \u001b[0;36mexecute\u001b[1;34m(self, driver_command, params)\u001b[0m\n\u001b[0;32m    423\u001b[0m         \u001b[0mresponse\u001b[0m \u001b[1;33m=\u001b[0m \u001b[0mself\u001b[0m\u001b[1;33m.\u001b[0m\u001b[0mcommand_executor\u001b[0m\u001b[1;33m.\u001b[0m\u001b[0mexecute\u001b[0m\u001b[1;33m(\u001b[0m\u001b[0mdriver_command\u001b[0m\u001b[1;33m,\u001b[0m \u001b[0mparams\u001b[0m\u001b[1;33m)\u001b[0m\u001b[1;33m\u001b[0m\u001b[1;33m\u001b[0m\u001b[0m\n\u001b[0;32m    424\u001b[0m         \u001b[1;32mif\u001b[0m \u001b[0mresponse\u001b[0m\u001b[1;33m:\u001b[0m\u001b[1;33m\u001b[0m\u001b[1;33m\u001b[0m\u001b[0m\n\u001b[1;32m--> 425\u001b[1;33m             \u001b[0mself\u001b[0m\u001b[1;33m.\u001b[0m\u001b[0merror_handler\u001b[0m\u001b[1;33m.\u001b[0m\u001b[0mcheck_response\u001b[0m\u001b[1;33m(\u001b[0m\u001b[0mresponse\u001b[0m\u001b[1;33m)\u001b[0m\u001b[1;33m\u001b[0m\u001b[1;33m\u001b[0m\u001b[0m\n\u001b[0m\u001b[0;32m    426\u001b[0m             response['value'] = self._unwrap_value(\n\u001b[0;32m    427\u001b[0m                 response.get('value', None))\n",
      "\u001b[1;32mC:\\ju\\lib\\site-packages\\selenium\\webdriver\\remote\\errorhandler.py\u001b[0m in \u001b[0;36mcheck_response\u001b[1;34m(self, response)\u001b[0m\n\u001b[0;32m    245\u001b[0m                 \u001b[0malert_text\u001b[0m \u001b[1;33m=\u001b[0m \u001b[0mvalue\u001b[0m\u001b[1;33m[\u001b[0m\u001b[1;34m'alert'\u001b[0m\u001b[1;33m]\u001b[0m\u001b[1;33m.\u001b[0m\u001b[0mget\u001b[0m\u001b[1;33m(\u001b[0m\u001b[1;34m'text'\u001b[0m\u001b[1;33m)\u001b[0m\u001b[1;33m\u001b[0m\u001b[1;33m\u001b[0m\u001b[0m\n\u001b[0;32m    246\u001b[0m             \u001b[1;32mraise\u001b[0m \u001b[0mexception_class\u001b[0m\u001b[1;33m(\u001b[0m\u001b[0mmessage\u001b[0m\u001b[1;33m,\u001b[0m \u001b[0mscreen\u001b[0m\u001b[1;33m,\u001b[0m \u001b[0mstacktrace\u001b[0m\u001b[1;33m,\u001b[0m \u001b[0malert_text\u001b[0m\u001b[1;33m)\u001b[0m  \u001b[1;31m# type: ignore[call-arg]  # mypy is not smart enough here\u001b[0m\u001b[1;33m\u001b[0m\u001b[1;33m\u001b[0m\u001b[0m\n\u001b[1;32m--> 247\u001b[1;33m         \u001b[1;32mraise\u001b[0m \u001b[0mexception_class\u001b[0m\u001b[1;33m(\u001b[0m\u001b[0mmessage\u001b[0m\u001b[1;33m,\u001b[0m \u001b[0mscreen\u001b[0m\u001b[1;33m,\u001b[0m \u001b[0mstacktrace\u001b[0m\u001b[1;33m)\u001b[0m\u001b[1;33m\u001b[0m\u001b[1;33m\u001b[0m\u001b[0m\n\u001b[0m\u001b[0;32m    248\u001b[0m \u001b[1;33m\u001b[0m\u001b[0m\n\u001b[0;32m    249\u001b[0m     \u001b[1;32mdef\u001b[0m \u001b[0m_value_or_default\u001b[0m\u001b[1;33m(\u001b[0m\u001b[0mself\u001b[0m\u001b[1;33m,\u001b[0m \u001b[0mobj\u001b[0m\u001b[1;33m:\u001b[0m \u001b[0mMapping\u001b[0m\u001b[1;33m[\u001b[0m\u001b[0m_KT\u001b[0m\u001b[1;33m,\u001b[0m \u001b[0m_VT\u001b[0m\u001b[1;33m]\u001b[0m\u001b[1;33m,\u001b[0m \u001b[0mkey\u001b[0m\u001b[1;33m:\u001b[0m \u001b[0m_KT\u001b[0m\u001b[1;33m,\u001b[0m \u001b[0mdefault\u001b[0m\u001b[1;33m:\u001b[0m \u001b[0m_VT\u001b[0m\u001b[1;33m)\u001b[0m \u001b[1;33m->\u001b[0m \u001b[0m_VT\u001b[0m\u001b[1;33m:\u001b[0m\u001b[1;33m\u001b[0m\u001b[1;33m\u001b[0m\u001b[0m\n",
      "\u001b[1;31mNoSuchWindowException\u001b[0m: Message: no such window: target window already closed\nfrom unknown error: web view not found\n  (Session info: chrome=114.0.5735.134)\nStacktrace:\nBacktrace:\n\tGetHandleVerifier [0x00F1A813+48355]\n\t(No symbol) [0x00EAC4B1]\n\t(No symbol) [0x00DB5358]\n\t(No symbol) [0x00D9D293]\n\t(No symbol) [0x00DFE37B]\n\t(No symbol) [0x00E0C473]\n\t(No symbol) [0x00DFA536]\n\t(No symbol) [0x00DD82DC]\n\t(No symbol) [0x00DD93DD]\n\tGetHandleVerifier [0x0117AABD+2539405]\n\tGetHandleVerifier [0x011BA78F+2800735]\n\tGetHandleVerifier [0x011B456C+2775612]\n\tGetHandleVerifier [0x00FA51E0+616112]\n\t(No symbol) [0x00EB5F8C]\n\t(No symbol) [0x00EB2328]\n\t(No symbol) [0x00EB240B]\n\t(No symbol) [0x00EA4FF7]\n\tBaseThreadInitThunk [0x76CD00C9+25]\n\tRtlGetAppContainerNamedObjectPath [0x77E97B4E+286]\n\tRtlGetAppContainerNamedObjectPath [0x77E97B1E+238]\n"
     ]
    }
   ],
   "source": [
    "# 02. 로그인\n",
    "#경로 지정\n",
    "id_box = dr.find_element_by_css_selector(\"#loginForm > div > div:nth-child(1) > div > label > input\")   #아이디 입력창\n",
    "password_box = dr.find_element_by_css_selector(\"#loginForm > div > div:nth-child(2) > div > label > input\")     #비밀번호 입력창\n",
    "login_button = dr.find_element_by_css_selector('#loginForm > div > div:nth-child(3) > button')      #로그인 버튼"
   ]
  },
  {
   "cell_type": "code",
   "execution_count": 15,
   "id": "530e1d5f",
   "metadata": {},
   "outputs": [
    {
     "data": {
      "text/plain": [
       "'C:\\\\Users\\\\Son\\\\InstaCrawling'"
      ]
     },
     "execution_count": 15,
     "metadata": {},
     "output_type": "execute_result"
    }
   ],
   "source": [
    "from selenium.webdriver.common.by import By\n",
    "from parsing.ProductTypes import productTypes\n",
    "from parsing import WebExecutor\n",
    "from bs4 import BeautifulSoup\n",
    "import time\n",
    "import ssl\n",
    "import re\n",
    "\n",
    "# 아마 https 관련 기능, requests 요청할 때 https 사이트의 경우 필요하다고 함.\n",
    "ssl._create_default_https_context = ssl._create_unverified_context\n",
    "\n",
    "def getTotalProducts():\n",
    "    driver = WebExecutor.executor()\n",
    "    detailBrowser = WebExecutor.executor()\n",
    "\n",
    "    shopId = 1\n",
    "    storeName = \"porterna\"\n",
    "    result = [] # storeName, itemName, getUrl, getPrice, itemType, shopId\n",
    "    urls = []\n",
    "    urls.append((\"https://porterna.com/product/list.html?cate_no=541\", productTypes.OUTWEAR.name)) # outwear\n",
    "    urls.append((\"https://porterna.com/product/list.html?cate_no=789\", productTypes.TOP.name)) # top\n",
    "    urls.append((\"https://porterna.com/product/list.html?cate_no=28\", productTypes.BOTTOM.name)) # bottom\n",
    "    urls.append((\"https://porterna.com/product/list.html?cate_no=44\", productTypes.ACCESSORY.name)) # acc\n",
    "    urls.append((\"https://porterna.com/product/list.html?cate_no=79\", productTypes.SHOES.name)) # shoes\n",
    "    baseUrl = \"https://porterna.com\"\n",
    "\n",
    "    for url in urls: # itemType에 따른 url init\n",
    "        eachUrl, itemType = url\n",
    "        driver.get(eachUrl)\n",
    "        while True:\n",
    "\n",
    "            soup = BeautifulSoup(driver.page_source, 'html.parser')\n",
    "            datas = soup.find(\"ul\", \"thumbnail\").find_all(\"li\", recursive=False)\n",
    "            datas = list(map(str, datas))\n",
    "\n",
    "            for data in datas:\n",
    "                itemInfoGather = []\n",
    "                eachData = BeautifulSoup(data, 'html.parser')\n",
    "\n",
    "                # get Image\n",
    "                getImageUrl = eachData.find('img')['src']\n",
    "                imageUrl = 'https:' + getImageUrl\n",
    "\n",
    "                # get detail info\n",
    "                getDetailInfo = eachData.find('a')['href']\n",
    "                detailInfo = baseUrl + getDetailInfo\n",
    "\n",
    "                # get ItemName\n",
    "                getItemName = eachData.find('p', {'class': 'name'})\n",
    "                itemName = getItemName.text\n",
    "\n",
    "                # get Price\n",
    "                getPrice = eachData.find('div', {'class': 'price1'})\n",
    "                price = getPrice.text\n",
    "                price = re.sub(r'\\D', '', price)\n",
    "\n",
    "                # get detail information html\n",
    "\n",
    "                detailBrowser.get(detailInfo)\n",
    "                bSoup = BeautifulSoup(detailBrowser.page_source, 'html.parser')\n",
    "                detailHtml = bSoup.find(\"div\", \"pr-header-col pr-header-right\")\n",
    "\n",
    "\n",
    "                itemInfoGather.append(storeName)\n",
    "                itemInfoGather.append(itemName)\n",
    "                itemInfoGather.append(imageUrl)\n",
    "                itemInfoGather.append(price)\n",
    "                itemInfoGather.append(itemType)\n",
    "                itemInfoGather.append(detailInfo)\n",
    "                itemInfoGather.append(shopId)\n",
    "                itemInfoGather.append(detailHtml)\n",
    "                copyItemInfo = itemInfoGather.copy()\n",
    "                result.append(copyItemInfo)\n",
    "                itemInfoGather.clear()\n",
    "\n",
    "            # page 이동\n",
    "            element = driver.find_element(by=By.XPATH, value='//*[@id=\"contents\"]/div[2]/div[4]/a[2]')\n",
    "            time.sleep(5)\n",
    "\n",
    "            if element.is_displayed() and element.is_enabled():\n",
    "                try:\n",
    "                    driver.execute_script(\"arguments[0].click();\", element)\n",
    "                except:\n",
    "                    pass\n",
    "            if driver.current_url.endswith(\"#none\"):\n",
    "                detailBrowser.close()\n",
    "                break\n",
    "\n",
    "    driver.close()\n",
    "    return result"
   ]
  },
  {
   "cell_type": "code",
   "execution_count": 24,
   "id": "b267188c",
   "metadata": {},
   "outputs": [],
   "source": [
    "from enum import Enum, auto\n",
    "\n",
    "class productTypes(Enum):\n",
    "    OUTWEAR = auto()\n",
    "    TOP = auto()\n",
    "    BOTTOM = auto()\n",
    "    ACCESSORY = auto()\n",
    "    SHOES = auto()"
   ]
  },
  {
   "cell_type": "code",
   "execution_count": 32,
   "id": "3397cc38",
   "metadata": {},
   "outputs": [
    {
     "name": "stdout",
     "output_type": "stream",
     "text": [
      "('https://porterna.com/product/list.html?cate_no=541', 'OUTWEAR')\n",
      "https://porterna.com/product/list.html?cate_no=541\n",
      "OUTWEAR\n",
      "('https://porterna.com/product/list.html?cate_no=541', 'OUTWEAR')\n",
      "('https://porterna.com/product/list.html?cate_no=789', 'TOP')\n",
      "https://porterna.com/product/list.html?cate_no=789\n",
      "TOP\n",
      "('https://porterna.com/product/list.html?cate_no=789', 'TOP')\n"
     ]
    }
   ],
   "source": [
    "\n",
    "urls = []\n",
    "urls.append((\"https://porterna.com/product/list.html?cate_no=541\", productTypes.OUTWEAR.name)) # outwear\n",
    "urls.append((\"https://porterna.com/product/list.html?cate_no=789\", productTypes.TOP.name)) # top\n",
    "\n",
    "for url in urls: # itemType에 따른 url init\n",
    "    eachUrl, itemType = url\n",
    "    #     eachUrl = url[0]\n",
    "    #     itemType = url[1]\n",
    "    print(eachUrl)\n",
    "    print(itemType)\n",
    "    print(url)"
   ]
  },
  {
   "cell_type": "code",
   "execution_count": null,
   "id": "0b2401e9",
   "metadata": {},
   "outputs": [],
   "source": []
  }
 ],
 "metadata": {
  "kernelspec": {
   "display_name": "Python 3 (ipykernel)",
   "language": "python",
   "name": "python3"
  },
  "language_info": {
   "codemirror_mode": {
    "name": "ipython",
    "version": 3
   },
   "file_extension": ".py",
   "mimetype": "text/x-python",
   "name": "python",
   "nbconvert_exporter": "python",
   "pygments_lexer": "ipython3",
   "version": "3.9.7"
  }
 },
 "nbformat": 4,
 "nbformat_minor": 5
}
