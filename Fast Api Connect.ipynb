{
 "cells": [
  {
   "cell_type": "markdown",
   "id": "9cbcf1e5",
   "metadata": {},
   "source": [
    "# Flask Api 적용"
   ]
  },
  {
   "cell_type": "code",
   "execution_count": 3,
   "id": "f00c41e1",
   "metadata": {
    "scrolled": true
   },
   "outputs": [
    {
     "name": "stdout",
     "output_type": "stream",
     "text": [
      "Collecting fastapi\n",
      "Note: you may need to restart the kernel to use updated packages.\n",
      "  Downloading fastapi-0.100.0-py3-none-any.whl (65 kB)\n",
      "     ---------------------------------------- 65.7/65.7 kB 3.5 MB/s eta 0:00:00\n",
      "Collecting pydantic!=1.8,!=1.8.1,!=2.0.0,!=2.0.1,<3.0.0,>=1.7.4 (from fastapi)\n",
      "  Downloading pydantic-2.0.2-py3-none-any.whl (359 kB)\n",
      "     -------------------------------------- 359.1/359.1 kB 3.2 MB/s eta 0:00:00\n",
      "Collecting starlette<0.28.0,>=0.27.0 (from fastapi)\n",
      "  Downloading starlette-0.27.0-py3-none-any.whl (66 kB)\n",
      "     ---------------------------------------- 67.0/67.0 kB 3.8 MB/s eta 0:00:00\n",
      "Collecting typing-extensions>=4.5.0 (from fastapi)\n",
      "  Downloading typing_extensions-4.7.1-py3-none-any.whl (33 kB)\n",
      "Collecting annotated-types>=0.4.0 (from pydantic!=1.8,!=1.8.1,!=2.0.0,!=2.0.1,<3.0.0,>=1.7.4->fastapi)\n",
      "  Downloading annotated_types-0.5.0-py3-none-any.whl (11 kB)\n",
      "Collecting pydantic-core==2.1.2 (from pydantic!=1.8,!=1.8.1,!=2.0.0,!=2.0.1,<3.0.0,>=1.7.4->fastapi)\n",
      "  Downloading pydantic_core-2.1.2-cp39-none-win_amd64.whl (1.5 MB)\n",
      "     ---------------------------------------- 1.5/1.5 MB 8.0 MB/s eta 0:00:00\n",
      "Requirement already satisfied: anyio<5,>=3.4.0 in c:\\ju\\lib\\site-packages (from starlette<0.28.0,>=0.27.0->fastapi) (3.7.1)\n",
      "Requirement already satisfied: idna>=2.8 in c:\\ju\\lib\\site-packages (from anyio<5,>=3.4.0->starlette<0.28.0,>=0.27.0->fastapi) (3.2)\n",
      "Requirement already satisfied: sniffio>=1.1 in c:\\ju\\lib\\site-packages (from anyio<5,>=3.4.0->starlette<0.28.0,>=0.27.0->fastapi) (1.2.0)\n",
      "Requirement already satisfied: exceptiongroup in c:\\ju\\lib\\site-packages (from anyio<5,>=3.4.0->starlette<0.28.0,>=0.27.0->fastapi) (1.1.2)\n",
      "Installing collected packages: typing-extensions, annotated-types, starlette, pydantic-core, pydantic, fastapi\n",
      "  Attempting uninstall: typing-extensions\n",
      "    Found existing installation: typing-extensions 3.10.0.2\n",
      "    Uninstalling typing-extensions-3.10.0.2:\n",
      "      Successfully uninstalled typing-extensions-3.10.0.2\n",
      "Successfully installed annotated-types-0.5.0 fastapi-0.100.0 pydantic-2.0.2 pydantic-core-2.1.2 starlette-0.27.0 typing-extensions-4.7.1\n"
     ]
    }
   ],
   "source": [
    "pip install fastapi"
   ]
  },
  {
   "cell_type": "code",
   "execution_count": 1,
   "id": "b789e76b",
   "metadata": {},
   "outputs": [
    {
     "name": "stdout",
     "output_type": "stream",
     "text": [
      "Collecting uvicorn[standard]\n",
      "  Downloading uvicorn-0.22.0-py3-none-any.whl (58 kB)\n",
      "     ---------------------------------------- 58.3/58.3 kB 3.0 MB/s eta 0:00:00\n",
      "Requirement already satisfied: click>=7.0 in c:\\ju\\lib\\site-packages (from uvicorn[standard]) (8.0.3)\n",
      "Requirement already satisfied: h11>=0.8 in c:\\ju\\lib\\site-packages (from uvicorn[standard]) (0.13.0)\n",
      "Requirement already satisfied: colorama>=0.4 in c:\\ju\\lib\\site-packages (from uvicorn[standard]) (0.4.4)\n",
      "Collecting httptools>=0.5.0 (from uvicorn[standard])\n",
      "  Downloading httptools-0.6.0-cp39-cp39-win_amd64.whl (147 kB)\n",
      "     -------------------------------------- 147.5/147.5 kB 8.6 MB/s eta 0:00:00\n",
      "Requirement already satisfied: python-dotenv>=0.13 in c:\\ju\\lib\\site-packages (from uvicorn[standard]) (1.0.0)\n",
      "Requirement already satisfied: pyyaml>=5.1 in c:\\ju\\lib\\site-packages (from uvicorn[standard]) (6.0)\n",
      "Collecting watchfiles>=0.13 (from uvicorn[standard])\n",
      "  Downloading watchfiles-0.19.0-cp37-abi3-win_amd64.whl (270 kB)\n",
      "     -------------------------------------- 270.9/270.9 kB 4.2 MB/s eta 0:00:00\n",
      "Collecting websockets>=10.4 (from uvicorn[standard])\n",
      "  Downloading websockets-11.0.3-cp39-cp39-win_amd64.whl (124 kB)\n",
      "     -------------------------------------- 124.7/124.7 kB 7.6 MB/s eta 0:00:00\n",
      "Collecting anyio>=3.0.0 (from watchfiles>=0.13->uvicorn[standard])\n",
      "  Downloading anyio-3.7.1-py3-none-any.whl (80 kB)\n",
      "     ---------------------------------------- 80.9/80.9 kB 4.4 MB/s eta 0:00:00\n",
      "Requirement already satisfied: idna>=2.8 in c:\\ju\\lib\\site-packages (from anyio>=3.0.0->watchfiles>=0.13->uvicorn[standard]) (3.2)\n",
      "Requirement already satisfied: sniffio>=1.1 in c:\\ju\\lib\\site-packages (from anyio>=3.0.0->watchfiles>=0.13->uvicorn[standard]) (1.2.0)\n",
      "Collecting exceptiongroup (from anyio>=3.0.0->watchfiles>=0.13->uvicorn[standard])\n",
      "  Downloading exceptiongroup-1.1.2-py3-none-any.whl (14 kB)\n",
      "Installing collected packages: websockets, httptools, exceptiongroup, uvicorn, anyio, watchfiles\n",
      "  Attempting uninstall: anyio\n",
      "    Found existing installation: anyio 2.2.0\n",
      "    Uninstalling anyio-2.2.0:\n",
      "      Successfully uninstalled anyio-2.2.0\n",
      "Successfully installed anyio-3.7.1 exceptiongroup-1.1.2 httptools-0.6.0 uvicorn-0.22.0 watchfiles-0.19.0 websockets-11.0.3\n",
      "Note: you may need to restart the kernel to use updated packages.\n"
     ]
    }
   ],
   "source": [
    "pip install \"uvicorn[standard]\""
   ]
  },
  {
   "cell_type": "code",
   "execution_count": 5,
   "id": "b036e82b",
   "metadata": {},
   "outputs": [],
   "source": [
    "from fastapi import FastAPI\n",
    "app = FastAPI()\n",
    "\n",
    "@app.get(\"/\")\n",
    "async def root():\n",
    "    return {\"msg\" : \"Hello World\"}\n",
    "\n",
    "@app.get(\"/items/{item_id}\")\n",
    "async def read_item(item_id: int, q: str):\n",
    "    return {\"item_id\":item_id, \"q\":q}"
   ]
  },
  {
   "cell_type": "code",
   "execution_count": null,
   "id": "c2b43f55",
   "metadata": {},
   "outputs": [],
   "source": []
  },
  {
   "cell_type": "code",
   "execution_count": null,
   "id": "1a857672",
   "metadata": {},
   "outputs": [],
   "source": []
  }
 ],
 "metadata": {
  "kernelspec": {
   "display_name": "Python 3 (ipykernel)",
   "language": "python",
   "name": "python3"
  },
  "language_info": {
   "codemirror_mode": {
    "name": "ipython",
    "version": 3
   },
   "file_extension": ".py",
   "mimetype": "text/x-python",
   "name": "python",
   "nbconvert_exporter": "python",
   "pygments_lexer": "ipython3",
   "version": "3.9.7"
  }
 },
 "nbformat": 4,
 "nbformat_minor": 5
}
